{
  "nbformat": 4,
  "nbformat_minor": 0,
  "metadata": {
    "colab": {
      "provenance": [],
      "toc_visible": true,
      "authorship_tag": "ABX9TyNcIOGL/8bbWkawyKEui+7G",
      "include_colab_link": true
    },
    "kernelspec": {
      "name": "python3",
      "display_name": "Python 3"
    },
    "language_info": {
      "name": "python"
    }
  },
  "cells": [
    {
      "cell_type": "markdown",
      "metadata": {
        "id": "view-in-github",
        "colab_type": "text"
      },
      "source": [
        "<a href=\"https://colab.research.google.com/github/Rohini57/IE643-24v0057assignment1/blob/main/IE643_24v0057_assignment1Q1e.ipynb\" target=\"_parent\"><img src=\"https://colab.research.google.com/assets/colab-badge.svg\" alt=\"Open In Colab\"/></a>"
      ]
    },
    {
      "cell_type": "code",
      "execution_count": null,
      "metadata": {
        "id": "SK5feJ_QtGBu"
      },
      "outputs": [],
      "source": [
        "import numpy as np\n",
        "import pandas as pd\n",
        "\n",
        "# Load the datasets\n",
        "data1 = pd.read_csv(\"data1.csv\")\n",
        "data2 = pd.read_csv(\"data2.csv\")\n",
        "data3 = pd.read_csv(\"data3.csv\")\n",
        "\n",
        "# Preprocess the data (if needed)\n",
        "# ... (e.g., handle missing values, normalize features, convert labels to binary)\n",
        "\n",
        "# Function to check linear separability using optimization (from part 1b)\n",
        "def check_linear_separability(X, y):\n",
        "    # ... (your implementation from part 1b)\n",
        "\n",
        "# Check linear separability for each dataset\n",
        "for data in [data1, data2, data3]:\n",
        "    X = data.iloc[:, :-1].values\n",
        "    y = data.iloc[:, -1].values\n",
        "\n",
        "    is_separable = check_linear_separability(X, y)\n",
        "    print(f\"Dataset: {data.name}, Linearly Separable: {is_separable}\")\n",
        "\n",
        "# Perceptron algorithm (from your homework)\n",
        "def perceptron(X, y, max_iter=100, learning_rate=1):\n",
        "    # ... (your implementation)\n",
        "\n",
        "# Run perceptron algorithm for each dataset\n",
        "for data in [data1, data2, data3]:\n",
        "    X = data.iloc[:, :-1].values\n",
        "    y = data.iloc[:, -1].values\n",
        "\n",
        "    weights, bias, iterations = perceptron(X, y)\n",
        "    print(f\"Dataset: {data.name}, Linearly Separable: {iterations < max_iter}\")"
      ]
    }
  ]
}