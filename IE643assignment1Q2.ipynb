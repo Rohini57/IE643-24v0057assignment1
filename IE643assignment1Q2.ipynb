{
  "nbformat": 4,
  "nbformat_minor": 0,
  "metadata": {
    "colab": {
      "provenance": [],
      "authorship_tag": "ABX9TyO+xBpv2R0wy+zTop34S3So",
      "include_colab_link": true
    },
    "kernelspec": {
      "name": "python3",
      "display_name": "Python 3"
    },
    "language_info": {
      "name": "python"
    }
  },
  "cells": [
    {
      "cell_type": "markdown",
      "metadata": {
        "id": "view-in-github",
        "colab_type": "text"
      },
      "source": [
        "<a href=\"https://colab.research.google.com/github/Rohini57/IE643-24v0057assignment1/blob/main/IE643assignment1Q2.ipynb\" target=\"_parent\"><img src=\"https://colab.research.google.com/assets/colab-badge.svg\" alt=\"Open In Colab\"/></a>"
      ]
    },
    {
      "cell_type": "code",
      "execution_count": null,
      "metadata": {
        "id": "rcv5urIQuzcj"
      },
      "outputs": [],
      "source": [
        "#Linear Activation Function:\n",
        "def linear(z):\n",
        "    \"\"\"Computes the linear activation function.\n",
        "\n",
        "    Args:\n",
        "        z: Input value.\n",
        "\n",
        "    Returns:\n",
        "        The output of the linear activation function.\n",
        "    \"\"\"\n",
        "\n",
        "    return z\n",
        "    #ReLU Activation Function:\n",
        "    def relu(z):\n",
        "    \"\"\"Computes the ReLU activation function.\n",
        "\n",
        "    Args:\n",
        "        z: Input value.\n",
        "\n",
        "    Returns:\n",
        "        The output of the ReLU activation function.\n",
        "    \"\"\"\n",
        "\n",
        "    return np.maximum(0, z)\n",
        "\n",
        "def relu_grad(z):\n",
        "    \"\"\"Computes the gradient of the ReLU activation function.\n",
        "\n",
        "    Args:\n",
        "        z: Input value.\n",
        "\n",
        "    Returns:\n",
        "        The gradient of the ReLU activation function.\n",
        "    \"\"\"\n",
        "\n",
        "    return (z > 0).astype(int)\n",
        "    # Neural Network Architecture and Gradient Problems:\n",
        "\n",
        "Consider a simple MLP with two hidden layers and an output layer. Each hidden layer has 10 neurons, and the output layer has 1 neuron. Use the ReLU activation function for the hidden layers and the linear activation function for the output layer.\n",
        "\n",
        "To illustrate exploding and vanishing gradients, train the network on a suitable dataset (e.g., MNIST) and monitor the gradients during backpropagation. If the gradients become extremely large or small, it indicates exploding or vanishing gradients, respectively.\n",
        "# Forward Pass and Backpropagation with Output Activations:\n",
        "# Forward pass\n",
        "for layer in range(1, num_layers):\n",
        "    # ... (usual forward pass calculations)\n",
        "    # Forward the output activations to subsequent layers\n",
        "    for j in range(layer + 1, num_layers):\n",
        "        weights[j][:, layer] = activations[layer]\n",
        "\n",
        "# Backpropagation\n",
        "for layer in range(num_layers - 1, 0, -1):\n",
        "    # ... (usual backpropagation calculations)\n",
        "    # Update weights based on the forward-propagated activations\n",
        "    for j in range(layer - 1, -1, -1):\n",
        "        delta[j] += np.dot(weights[layer][:, j], delta[layer])\n",
        "        weights[layer][:, j] -= learning_rate * np.outer(delta[layer], activations[j])\n",
        "\n"
      ]
    }
  ]
}