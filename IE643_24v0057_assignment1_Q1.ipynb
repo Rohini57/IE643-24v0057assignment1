{
  "nbformat": 4,
  "nbformat_minor": 0,
  "metadata": {
    "colab": {
      "provenance": [],
      "authorship_tag": "ABX9TyNeBfVjLZi9dSgdmLd5Yc5S",
      "include_colab_link": true
    },
    "kernelspec": {
      "name": "python3",
      "display_name": "Python 3"
    },
    "language_info": {
      "name": "python"
    }
  },
  "cells": [
    {
      "cell_type": "markdown",
      "metadata": {
        "id": "view-in-github",
        "colab_type": "text"
      },
      "source": [
        "<a href=\"https://colab.research.google.com/github/Rohini57/IE643-24v0057assignment1/blob/main/IE643_24v0057_assignment1_Q1.ipynb\" target=\"_parent\"><img src=\"https://colab.research.google.com/assets/colab-badge.svg\" alt=\"Open In Colab\"/></a>"
      ]
    },
    {
      "cell_type": "code",
      "execution_count": 5,
      "metadata": {
        "colab": {
          "base_uri": "https://localhost:8080/"
        },
        "id": "HJySxJrfiHnM",
        "outputId": "bb0cdfd3-e8fb-4690-dee7-4e86a1800314"
      },
      "outputs": [
        {
          "output_type": "stream",
          "name": "stdout",
          "text": [
            "The dataset is not linearly separable.\n"
          ]
        }
      ],
      "source": [
        "import numpy as np\n",
        "import cvxpy as cp\n",
        "\n",
        "def check_linear_separability(X, y, gamma):\n",
        "  \"\"\" Args:\n",
        "    X: A numpy array of shape (n, d) containing the data points.\n",
        "    y: A numpy array of shape (n,) containing the class labels (+1 or -1).\n",
        "    gamma: The margin parameter.\n",
        "\n",
        "  Returns:\n",
        "    True if the dataset is linearly separable, False otherwise.\n",
        "  \"\"\"\n",
        "  n, d = X.shape\n",
        "  A = np.hstack((y[:, np.newaxis] * X, -y[:, np.newaxis]))\n",
        "  q = np.ones(n) * gamma\n",
        "\n",
        "  # Decision variables\n",
        "  w = cp.Variable(d + 1)\n",
        "# Example usage\n",
        "X = np.array([[1, 2], [3, 4], [5, 6], [7, 8]])\n",
        "y = np.array([1, 1, -1, -1])\n",
        "gamma = 1\n",
        "\n",
        "if check_linear_separability(X, y, gamma):\n",
        "  print(\"The dataset is linearly separable.\")\n",
        "else:\n",
        "  print(\"The dataset is not linearly separable.\")"
      ]
    }
  ]
}