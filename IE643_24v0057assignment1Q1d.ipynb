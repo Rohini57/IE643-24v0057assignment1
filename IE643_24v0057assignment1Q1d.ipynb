{
  "nbformat": 4,
  "nbformat_minor": 0,
  "metadata": {
    "colab": {
      "provenance": [],
      "toc_visible": true,
      "authorship_tag": "ABX9TyOqmSAjQ0zcL6poj+HY03fn",
      "include_colab_link": true
    },
    "kernelspec": {
      "name": "python3",
      "display_name": "Python 3"
    },
    "language_info": {
      "name": "python"
    }
  },
  "cells": [
    {
      "cell_type": "markdown",
      "metadata": {
        "id": "view-in-github",
        "colab_type": "text"
      },
      "source": [
        "<a href=\"https://colab.research.google.com/github/Rohini57/IE643-24v0057assignment1/blob/main/IE643_24v0057assignment1Q1d.ipynb\" target=\"_parent\"><img src=\"https://colab.research.google.com/assets/colab-badge.svg\" alt=\"Open In Colab\"/></a>"
      ]
    },
    {
      "cell_type": "code",
      "execution_count": 2,
      "metadata": {
        "id": "8UXyv3fQrY1C"
      },
      "outputs": [],
      "source": [
        "import numpy as np\n",
        "import matplotlib.pyplot as plt\n",
        "import random\n",
        "def perceptron_prediction(w, x):\n",
        "    #write code to compute the prediction for the example x using weight w\n",
        "    return prediction\n",
        "def train_perceptron(data):\n",
        "    #Initialize weights\n",
        "    #w = ??  # try randomly generating w or zero initialization\n",
        "    epochs=0 #useful for executing multiple passes over a finite data set\n",
        "    num_mistakes = 99 #some dummy value to get the while loop going\n",
        "    max_epochs = 100\n",
        "\n",
        "    while num_mistakes > 0 and epochs<max_epochs:   # until mistakes are not zero or number of epochs reach max_epochs\n",
        "        num_mistakes = 0\n",
        "        for i in range(len(data)):\n",
        "            #retrieve the feature vector x from data set D\n",
        "            # x =\n",
        "            #Append an additional constant feature 1 to x (Use np.concatenate)\n",
        "            # x =\n",
        "\n",
        "            y_hat = perceptron_prediction(w, x)\n",
        "\n",
        "            #retrieve the label y for x from data set D\n",
        "            # y =\n",
        "\n",
        "            w, is_mistake = perceptron_update_weights(w, x, y, y_hat)\n",
        "\n",
        "            if is_mistake:\n",
        "              num_mistakes += 1\n",
        "\n",
        "        epochs=epochs+1\n",
        "    return w\n",
        "    ef plot_data_with_separator(data, w):\n",
        "  #write required code. (You can reuse the code written for plotting the data points.)\n",
        "  pass\n",
        "  w_final = train_perceptron(data)"
      ]
    }
  ]
}